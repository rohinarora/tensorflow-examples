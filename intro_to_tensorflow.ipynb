{
 "cells": [
  {
   "cell_type": "markdown",
   "metadata": {},
   "source": [
    "# Introduction to tensorflow"
   ]
  },
  {
   "cell_type": "code",
   "execution_count": 45,
   "metadata": {
    "collapsed": true
   },
   "outputs": [],
   "source": [
    "import tensorflow as tf"
   ]
  },
  {
   "cell_type": "code",
   "execution_count": 46,
   "metadata": {
    "collapsed": false
   },
   "outputs": [
    {
     "data": {
      "text/plain": [
       "<tensorflow.python.client.session.InteractiveSession at 0x7faba97af6d0>"
      ]
     },
     "execution_count": 46,
     "metadata": {},
     "output_type": "execute_result"
    }
   ],
   "source": [
    "tf.InteractiveSession()\n",
    "# Keeps a default session open in ipython.\n"
   ]
  },
  {
   "cell_type": "code",
   "execution_count": 55,
   "metadata": {
    "collapsed": false
   },
   "outputs": [
    {
     "name": "stdout",
     "output_type": "stream",
     "text": [
      "Tensor(\"Const_45:0\", shape=(2, 2), dtype=int32)\n"
     ]
    }
   ],
   "source": [
    "x=tf.constant([1,2,3,4],shape=[2,2])\n",
    "print(x)  "
   ]
  },
  {
   "cell_type": "code",
   "execution_count": 56,
   "metadata": {
    "collapsed": false
   },
   "outputs": [
    {
     "name": "stdout",
     "output_type": "stream",
     "text": [
      "[[1 2]\n",
      " [3 4]]\n",
      "[[1 2]\n",
      " [3 4]]\n"
     ]
    }
   ],
   "source": [
    "print tf.Session().run(x)\n",
    "# or->\n",
    "# with import tf.Session() as sess:\n",
    "#        sess.run(x)       \n",
    "print x.eval() # shorthand for sess.run(output)"
   ]
  },
  {
   "cell_type": "code",
   "execution_count": 64,
   "metadata": {
    "collapsed": false
   },
   "outputs": [
    {
     "name": "stdout",
     "output_type": "stream",
     "text": [
      "[[[5]\n",
      "  [6]]\n",
      "\n",
      " [[7]\n",
      "  [8]]]\n",
      "[[ 0.95874802  0.56495904  0.77395034]\n",
      " [ 0.15639488  0.33583109  0.38151375]\n",
      " [ 0.13865251  0.66157033  0.00474448]]\n"
     ]
    }
   ],
   "source": [
    "a=tf.constant([5,6,7,8],shape=[2,2])\n",
    "b=tf.constant([[5,6],[7,8]])\n",
    "c=tf.constant([[[5],[6]],[[7],[8]]])    # 2x2x1 matrix\n",
    "import numpy as np\n",
    "f=tf.constant(np.random.rand(3,3))\n",
    "\n",
    "print(c.eval())\n",
    "print(f.eval())"
   ]
  },
  {
   "cell_type": "code",
   "execution_count": 61,
   "metadata": {
    "collapsed": false
   },
   "outputs": [
    {
     "name": "stdout",
     "output_type": "stream",
     "text": [
      "examples->\n",
      "[[ 1.  2.  3.]\n",
      " [ 4.  5.  6.]]\n",
      "wights->\n",
      "[[ 1.  2.]\n",
      " [ 3.  4.]\n",
      " [ 5.  6.]]\n",
      "bias->\n",
      "[ 1.  2.]\n",
      "output->\n",
      "[[ 23.  30.]\n",
      " [ 50.  66.]]\n"
     ]
    }
   ],
   "source": [
    "examples=tf.constant([[1.0,2.0,3.0],[4.0,5.0,6.0]])\n",
    "weights=tf.constant([[1.0,2.0],[3.0,4.0],[5.0,6.0]])\n",
    "bias=tf.constant([1.0,2.0])\n",
    "output=tf.matmul(examples,weights)+bias\n",
    "print(\"examples->\")\n",
    "print(examples.eval())\n",
    "print(\"wights->\")\n",
    "print(weights.eval())\n",
    "print(\"bias->\")\n",
    "print(bias.eval())\n",
    "print(\"output->\")\n",
    "print output.eval()\n",
    "    "
   ]
  },
  {
   "cell_type": "code",
   "execution_count": 67,
   "metadata": {
    "collapsed": false
   },
   "outputs": [
    {
     "name": "stdout",
     "output_type": "stream",
     "text": [
      "[ 2.  5.  6.  7.]\n",
      "[ 1.  2.  3.  5.]\n"
     ]
    }
   ],
   "source": [
    "x=tf.Variable([2.,5.,6.,7.],name=\"rand\")\n",
    "tf.initialize_all_variables().run()  # all variables must be initialized\n",
    "print x.eval()\n",
    "assign_op=x.assign(tf.constant([1.,2.,3.,5.]))\n",
    "#  during assignment, new value's dimension must be same as original dimension \n",
    "assign_op.op.run()\n",
    "print x.eval()\n",
    "#see more- http://stackoverflow.com/questions/34220532/how-to-assign-value-to-a-tensorflow-variable"
   ]
  },
  {
   "cell_type": "code",
   "execution_count": 35,
   "metadata": {
    "collapsed": false
   },
   "outputs": [
    {
     "name": "stdout",
     "output_type": "stream",
     "text": [
      "[[ 0.  0.]\n",
      " [ 0.  0.]]\n",
      "[[ 1.  1.]\n",
      " [ 1.  1.]]\n",
      "[ 2.  2.]\n"
     ]
    }
   ],
   "source": [
    "a = tf.zeros((2,2)); b = tf.ones((2,2))\n",
    "print(a.eval())\n",
    "print(b.eval())\n",
    "x=tf.reduce_sum(b, reduction_indices=1)\n",
    "print(x.eval())\n"
   ]
  },
  {
   "cell_type": "code",
   "execution_count": 38,
   "metadata": {
    "collapsed": false
   },
   "outputs": [
    {
     "name": "stdout",
     "output_type": "stream",
     "text": [
      "(2, 2)\n",
      "(2, 2)\n",
      "(2,)\n"
     ]
    }
   ],
   "source": [
    "print(a.get_shape())\n",
    "print(x.get_shape())"
   ]
  },
  {
   "cell_type": "code",
   "execution_count": 40,
   "metadata": {
    "collapsed": false
   },
   "outputs": [
    {
     "name": "stdout",
     "output_type": "stream",
     "text": [
      "[[ 0.  0.  0.  0.]]\n"
     ]
    }
   ],
   "source": [
    "re_a=tf.reshape(a, (1, 4))\n",
    "print(re_a.eval())\n"
   ]
  },
  {
   "cell_type": "code",
   "execution_count": 68,
   "metadata": {
    "collapsed": false
   },
   "outputs": [
    {
     "name": "stdout",
     "output_type": "stream",
     "text": [
      "0\n",
      "1\n",
      "2\n",
      "3\n"
     ]
    }
   ],
   "source": [
    "state = tf.Variable(0, name=\"counter\")\n",
    "new_value = tf.add(state, tf.constant(1))\n",
    "update = tf.assign(state, new_value)\n",
    "tf.initialize_all_variables().run()\n",
    "print state.eval()\n",
    "for _ in range(3):\n",
    "    update.eval()\n",
    "    print state.eval()\n"
   ]
  },
  {
   "cell_type": "code",
   "execution_count": 71,
   "metadata": {
    "collapsed": false
   },
   "outputs": [
    {
     "name": "stdout",
     "output_type": "stream",
     "text": [
      "[21.0, 7.0]\n"
     ]
    }
   ],
   "source": [
    "input1 = tf.constant(3.0)\n",
    "input2 = tf.constant(2.0)\n",
    "input3 = tf.constant(5.0)\n",
    "intermed = tf.add(input2, input3)\n",
    "mul = tf.mul(input1, intermed)\n",
    "with tf.Session() as sess:\n",
    "    result = sess.run([mul, intermed])\n",
    "print(result)\n"
   ]
  },
  {
   "cell_type": "markdown",
   "metadata": {},
   "source": [
    "In above cell, sess.run() \"fetches\" multiple variable values.\n",
    "Multiple values can't be \"eval()\" in one go. Hence we use sess.run() instead of eval() here \n"
   ]
  },
  {
   "cell_type": "code",
   "execution_count": 73,
   "metadata": {
    "collapsed": false
   },
   "outputs": [
    {
     "name": "stdout",
     "output_type": "stream",
     "text": [
      "[[ 0.  0.  0.]\n",
      " [ 0.  0.  0.]\n",
      " [ 0.  0.  0.]]\n"
     ]
    }
   ],
   "source": [
    "a = np.zeros((3,3))\n",
    "ta = tf.convert_to_tensor(a)\n",
    "print(ta.eval())"
   ]
  },
  {
   "cell_type": "markdown",
   "metadata": {},
   "source": [
    "###  tf.placeholder variables (dummy nodes that provide entry points for data to computational graph). \n",
    "\n",
    "### A feed_dict is a python dictionary mapping from tf. placeholder vars (or their names) to data (numpy arrays,lists, etc.).\n"
   ]
  },
  {
   "cell_type": "code",
   "execution_count": 74,
   "metadata": {
    "collapsed": false
   },
   "outputs": [
    {
     "name": "stdout",
     "output_type": "stream",
     "text": [
      "[array([ 14.], dtype=float32)]\n"
     ]
    }
   ],
   "source": [
    "input1 = tf.placeholder(tf.float32)\n",
    "input2 = tf.placeholder(tf.float32)\n",
    "output = tf.mul(input1, input2)\n",
    "with tf.Session() as sess:\n",
    "    print(sess.run([output], feed_dict={input1:[7.], input2:[2.]}))\n"
   ]
  },
  {
   "cell_type": "markdown",
   "metadata": {},
   "source": [
    "### tf.variable_scope() provides simple name-spacing to avoid clashes.\n",
    "\n",
    "### tf.get_variable() creates/accesses variables from within a variable scope.\n"
   ]
  },
  {
   "cell_type": "code",
   "execution_count": 76,
   "metadata": {
    "collapsed": false
   },
   "outputs": [],
   "source": [
    "with tf.variable_scope(\"foo\"):\n",
    "    with tf.variable_scope(\"bar\"):\n",
    "        v = tf.get_variable(\"v\", [1])\n",
    "assert v.name == \"foo/bar/v:0\"\n"
   ]
  },
  {
   "cell_type": "code",
   "execution_count": null,
   "metadata": {
    "collapsed": true
   },
   "outputs": [],
   "source": []
  }
 ],
 "metadata": {
  "kernelspec": {
   "display_name": "Python 2",
   "language": "python",
   "name": "python2"
  },
  "language_info": {
   "codemirror_mode": {
    "name": "ipython",
    "version": 2
   },
   "file_extension": ".py",
   "mimetype": "text/x-python",
   "name": "python",
   "nbconvert_exporter": "python",
   "pygments_lexer": "ipython2",
   "version": "2.7.6"
  }
 },
 "nbformat": 4,
 "nbformat_minor": 0
}
